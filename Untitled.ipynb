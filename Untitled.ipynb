{
 "cells": [
  {
   "cell_type": "markdown",
   "id": "e8f7ebf2",
   "metadata": {},
   "source": [
    "## Climate X Technical Interview\n",
    "### Author: Nicolás Santos\n"
   ]
  },
  {
   "cell_type": "markdown",
   "id": "f63e43ba",
   "metadata": {},
   "source": [
    "___"
   ]
  },
  {
   "cell_type": "markdown",
   "id": "814b7ead",
   "metadata": {},
   "source": [
    "## Task I"
   ]
  },
  {
   "cell_type": "markdown",
   "id": "ee267357",
   "metadata": {},
   "source": [
    "#### How would I approach the problem?"
   ]
  },
  {
   "cell_type": "markdown",
   "id": "507cd3f5",
   "metadata": {},
   "source": []
  },
  {
   "cell_type": "markdown",
   "id": "afe4b641",
   "metadata": {},
   "source": [
    "#### Explain data required, cleaning, algorithms and techniques you'd try"
   ]
  },
  {
   "cell_type": "markdown",
   "id": "1f16132b",
   "metadata": {},
   "source": [
    "#### How would I validate?"
   ]
  },
  {
   "cell_type": "markdown",
   "id": "5fa97a17",
   "metadata": {},
   "source": [
    "## Task II"
   ]
  }
 ],
 "metadata": {
  "kernelspec": {
   "display_name": "Python 3 (ipykernel)",
   "language": "python",
   "name": "python3"
  },
  "language_info": {
   "codemirror_mode": {
    "name": "ipython",
    "version": 3
   },
   "file_extension": ".py",
   "mimetype": "text/x-python",
   "name": "python",
   "nbconvert_exporter": "python",
   "pygments_lexer": "ipython3",
   "version": "3.9.12"
  }
 },
 "nbformat": 4,
 "nbformat_minor": 5
}
